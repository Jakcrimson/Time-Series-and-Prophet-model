{
 "cells": [
  {
   "cell_type": "markdown",
   "metadata": {},
   "source": [
    "## A Time series is a collection of data points indexed, listed or graphed in time order. Most commonly, a time series is a sequence taken at successive equally spaced points in time.Thus it is a sequence of discrete-time data.\n",
    "\n",
    "# Working with time series in python\n",
    "\n",
    "### These days, time series represent a large amount of the data our economy is built on wether it's the yearly sales, or the price of a stock since it's quotation in the stock market. The study of time series will help us find trends, turning points, seasonly trands, weekly trends etc. Python allows us to do this with numerous libraries such as Numpy and Pandas.\n",
    "\n",
    "\n",
    "### We will be studying the Microsoft Corporation stock market prices within a time period of 5 year to this day.\n",
    "\n",
    "## Preparing the data\n",
    "\n",
    "### Whether your data comes from a database, a .csv file, or an API you can organize your data with Python’s Pandas library."
   ]
  },
  {
   "cell_type": "code",
   "execution_count": 15,
   "metadata": {},
   "outputs": [
    {
     "name": "stdout",
     "output_type": "stream",
     "text": [
      "<class 'pandas.core.frame.DataFrame'>\n",
      "RangeIndex: 1258 entries, 0 to 1257\n",
      "Data columns (total 7 columns):\n",
      " #   Column     Non-Null Count  Dtype  \n",
      "---  ------     --------------  -----  \n",
      " 0   Date       1258 non-null   object \n",
      " 1   Open       1258 non-null   float64\n",
      " 2   High       1258 non-null   float64\n",
      " 3   Low        1258 non-null   float64\n",
      " 4   Close      1258 non-null   float64\n",
      " 5   Adj Close  1258 non-null   float64\n",
      " 6   Volume     1258 non-null   int64  \n",
      "dtypes: float64(5), int64(1), object(1)\n",
      "memory usage: 68.9+ KB\n"
     ]
    }
   ],
   "source": [
    "\n",
    "from os import sep\n",
    "import pandas as pd\n",
    "\n",
    "# Leading the data with the read_csv method from pandas\n",
    "data = pd.read_csv(\"../DATASETS_STOCKS_PRICE/MSFT.csv\", sep=',')\n",
    "\n",
    "# Having a look at our data with the info() method, specifying the number of rows we want to see\n",
    "data.info()"
   ]
  },
  {
   "cell_type": "markdown",
   "metadata": {},
   "source": [
    "### Once you load your data into pandas you will need to check the data type of the time based column. If the values are in string format you will need to convert the datatype to a pandas datetime object. The stock price date column was a string datatype in the format “year-month-date.” I utilized pandas’ to_datetime method to convert this column to a datetime object:"
   ]
  },
  {
   "cell_type": "code",
   "execution_count": 20,
   "metadata": {},
   "outputs": [
    {
     "name": "stdout",
     "output_type": "stream",
     "text": [
      "<class 'pandas.core.frame.DataFrame'>\n",
      "DatetimeIndex: 1258 entries, 2016-12-13 to 2021-12-10\n",
      "Data columns (total 6 columns):\n",
      " #   Column     Non-Null Count  Dtype  \n",
      "---  ------     --------------  -----  \n",
      " 0   Open       1258 non-null   float64\n",
      " 1   High       1258 non-null   float64\n",
      " 2   Low        1258 non-null   float64\n",
      " 3   Close      1258 non-null   float64\n",
      " 4   Adj Close  1258 non-null   float64\n",
      " 5   Volume     1258 non-null   int64  \n",
      "dtypes: float64(5), int64(1)\n",
      "memory usage: 68.8 KB\n"
     ]
    }
   ],
   "source": [
    "data.Date = pd.to_datetime(data.Date)\n",
    "\n",
    "data = data.set_index('Date')\n",
    "\n",
    "data.info()"
   ]
  },
  {
   "cell_type": "markdown",
   "metadata": {},
   "source": [
    "## Resampling the time intervals\n",
    "\n",
    "### You may have multiple dataframes with different time intervals. This creates the need for resampling the frequency of the data. Let’s say you want to merge a dataframe with daily data and a dataframe with monthly data. This creates the need for downsampling, or grouping all of the daily data by month to create consistent intervals. Once the data is grouped then you need a compatible metric, usually the mean of the more frequent data, to restore consistency. These steps can be achieved in one line with the .resample() and .mean() methods:"
   ]
  },
  {
   "cell_type": "code",
   "execution_count": 21,
   "metadata": {},
   "outputs": [
    {
     "data": {
      "text/plain": [
       "Date\n",
       "2016-12-01     58.600345\n",
       "2017-01-01     58.754541\n",
       "2017-02-01     59.802722\n",
       "2017-03-01     60.653525\n",
       "2017-04-01     61.897882\n",
       "                 ...    \n",
       "2021-08-01    293.475840\n",
       "2021-09-01    296.332142\n",
       "2021-10-01    302.988065\n",
       "2021-11-01    335.521590\n",
       "2021-12-01    331.787502\n",
       "Freq: MS, Name: Adj Close, Length: 61, dtype: float64"
      ]
     },
     "execution_count": 21,
     "metadata": {},
     "output_type": "execute_result"
    }
   ],
   "source": [
    "data['Adj Close'].resample('MS').mean()"
   ]
  },
  {
   "cell_type": "markdown",
   "metadata": {},
   "source": [
    "### The MS parameter corresponds to monthly resampling. If the values resampled are more frequent than the parameter used then this is called downsampling.If the values resampled are less frequent than the parameter used then this is called upsampling. Null values are added where the new date intervals are created. I upsampled the values from daily prices to twice daily. In our stock price scenario pandas will assign the original price to the midnight time stamp and the null value to the noon time stamp:"
   ]
  },
  {
   "cell_type": "code",
   "execution_count": 25,
   "metadata": {},
   "outputs": [
    {
     "data": {
      "text/html": [
       "<div>\n",
       "<style scoped>\n",
       "    .dataframe tbody tr th:only-of-type {\n",
       "        vertical-align: middle;\n",
       "    }\n",
       "\n",
       "    .dataframe tbody tr th {\n",
       "        vertical-align: top;\n",
       "    }\n",
       "\n",
       "    .dataframe thead th {\n",
       "        text-align: right;\n",
       "    }\n",
       "</style>\n",
       "<table border=\"1\" class=\"dataframe\">\n",
       "  <thead>\n",
       "    <tr style=\"text-align: right;\">\n",
       "      <th></th>\n",
       "      <th>Open</th>\n",
       "      <th>High</th>\n",
       "      <th>Low</th>\n",
       "      <th>Close</th>\n",
       "      <th>Adj Close</th>\n",
       "      <th>Volume</th>\n",
       "    </tr>\n",
       "    <tr>\n",
       "      <th>Date</th>\n",
       "      <th></th>\n",
       "      <th></th>\n",
       "      <th></th>\n",
       "      <th></th>\n",
       "      <th></th>\n",
       "      <th></th>\n",
       "    </tr>\n",
       "  </thead>\n",
       "  <tbody>\n",
       "    <tr>\n",
       "      <th>2016-12-13</th>\n",
       "      <td>62.500000</td>\n",
       "      <td>63.419998</td>\n",
       "      <td>62.240002</td>\n",
       "      <td>62.980000</td>\n",
       "      <td>58.557426</td>\n",
       "      <td>35718868</td>\n",
       "    </tr>\n",
       "    <tr>\n",
       "      <th>2016-12-14</th>\n",
       "      <td>63.000000</td>\n",
       "      <td>63.450001</td>\n",
       "      <td>62.529999</td>\n",
       "      <td>62.680000</td>\n",
       "      <td>58.278496</td>\n",
       "      <td>30352654</td>\n",
       "    </tr>\n",
       "    <tr>\n",
       "      <th>2016-12-15</th>\n",
       "      <td>62.700001</td>\n",
       "      <td>63.153500</td>\n",
       "      <td>62.299999</td>\n",
       "      <td>62.580002</td>\n",
       "      <td>58.185524</td>\n",
       "      <td>27669868</td>\n",
       "    </tr>\n",
       "    <tr>\n",
       "      <th>2016-12-16</th>\n",
       "      <td>62.950001</td>\n",
       "      <td>62.950001</td>\n",
       "      <td>62.115002</td>\n",
       "      <td>62.299999</td>\n",
       "      <td>57.925182</td>\n",
       "      <td>42453083</td>\n",
       "    </tr>\n",
       "    <tr>\n",
       "      <th>2016-12-19</th>\n",
       "      <td>62.560001</td>\n",
       "      <td>63.770000</td>\n",
       "      <td>62.419998</td>\n",
       "      <td>63.619999</td>\n",
       "      <td>59.152485</td>\n",
       "      <td>34338219</td>\n",
       "    </tr>\n",
       "    <tr>\n",
       "      <th>...</th>\n",
       "      <td>...</td>\n",
       "      <td>...</td>\n",
       "      <td>...</td>\n",
       "      <td>...</td>\n",
       "      <td>...</td>\n",
       "      <td>...</td>\n",
       "    </tr>\n",
       "    <tr>\n",
       "      <th>2017-05-02</th>\n",
       "      <td>69.709999</td>\n",
       "      <td>69.709999</td>\n",
       "      <td>69.129997</td>\n",
       "      <td>69.300003</td>\n",
       "      <td>64.824242</td>\n",
       "      <td>23906119</td>\n",
       "    </tr>\n",
       "    <tr>\n",
       "      <th>2017-05-03</th>\n",
       "      <td>69.379997</td>\n",
       "      <td>69.379997</td>\n",
       "      <td>68.709999</td>\n",
       "      <td>69.080002</td>\n",
       "      <td>64.618462</td>\n",
       "      <td>28927973</td>\n",
       "    </tr>\n",
       "    <tr>\n",
       "      <th>2017-05-04</th>\n",
       "      <td>69.029999</td>\n",
       "      <td>69.080002</td>\n",
       "      <td>68.639999</td>\n",
       "      <td>68.809998</td>\n",
       "      <td>64.365891</td>\n",
       "      <td>21749409</td>\n",
       "    </tr>\n",
       "    <tr>\n",
       "      <th>2017-05-05</th>\n",
       "      <td>68.900002</td>\n",
       "      <td>69.029999</td>\n",
       "      <td>68.485001</td>\n",
       "      <td>69.000000</td>\n",
       "      <td>64.543625</td>\n",
       "      <td>19128782</td>\n",
       "    </tr>\n",
       "    <tr>\n",
       "      <th>2017-05-08</th>\n",
       "      <td>68.970001</td>\n",
       "      <td>69.050003</td>\n",
       "      <td>68.419998</td>\n",
       "      <td>68.940002</td>\n",
       "      <td>64.487511</td>\n",
       "      <td>18566087</td>\n",
       "    </tr>\n",
       "  </tbody>\n",
       "</table>\n",
       "<p>100 rows × 6 columns</p>\n",
       "</div>"
      ],
      "text/plain": [
       "                 Open       High        Low      Close  Adj Close    Volume\n",
       "Date                                                                       \n",
       "2016-12-13  62.500000  63.419998  62.240002  62.980000  58.557426  35718868\n",
       "2016-12-14  63.000000  63.450001  62.529999  62.680000  58.278496  30352654\n",
       "2016-12-15  62.700001  63.153500  62.299999  62.580002  58.185524  27669868\n",
       "2016-12-16  62.950001  62.950001  62.115002  62.299999  57.925182  42453083\n",
       "2016-12-19  62.560001  63.770000  62.419998  63.619999  59.152485  34338219\n",
       "...               ...        ...        ...        ...        ...       ...\n",
       "2017-05-02  69.709999  69.709999  69.129997  69.300003  64.824242  23906119\n",
       "2017-05-03  69.379997  69.379997  68.709999  69.080002  64.618462  28927973\n",
       "2017-05-04  69.029999  69.080002  68.639999  68.809998  64.365891  21749409\n",
       "2017-05-05  68.900002  69.029999  68.485001  69.000000  64.543625  19128782\n",
       "2017-05-08  68.970001  69.050003  68.419998  68.940002  64.487511  18566087\n",
       "\n",
       "[100 rows x 6 columns]"
      ]
     },
     "execution_count": 25,
     "metadata": {},
     "output_type": "execute_result"
    }
   ],
   "source": []
  }
 ],
 "metadata": {
  "interpreter": {
   "hash": "4188115f2366f7b369107901ebaac17b0f6017efab4f6003f9d6b958b64a851f"
  },
  "kernelspec": {
   "display_name": "Python 3.7.11 64-bit ('v-env': conda)",
   "language": "python",
   "name": "python3"
  },
  "language_info": {
   "codemirror_mode": {
    "name": "ipython",
    "version": 3
   },
   "file_extension": ".py",
   "mimetype": "text/x-python",
   "name": "python",
   "nbconvert_exporter": "python",
   "pygments_lexer": "ipython3",
   "version": "3.7.11"
  },
  "orig_nbformat": 4
 },
 "nbformat": 4,
 "nbformat_minor": 2
}
