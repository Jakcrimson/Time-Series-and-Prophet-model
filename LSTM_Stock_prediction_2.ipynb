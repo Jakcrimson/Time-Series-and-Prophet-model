{
  "cells": [
    {
      "cell_type": "code",
      "execution_count": 1,
      "metadata": {
        "id": "SPXxSLtXmEN_"
      },
      "outputs": [],
      "source": [
        "#Description : This program uses an artifical RNN called Long Short Term Memory (LSTM)\n",
        "              # to predict the closing stock price of a corporation (Apple Inc.) using the pase 60 days stock price"
      ]
    },
    {
      "cell_type": "code",
      "execution_count": 2,
      "metadata": {
        "colab": {
          "base_uri": "https://localhost:8080/"
        },
        "id": "yUkTN-ztnJyc",
        "outputId": "ef1b5cac-23a4-43f9-9a1d-921c164b9c38"
      },
      "outputs": [
        {
          "name": "stdout",
          "output_type": "stream",
          "text": [
            "Requirement already satisfied: pandas_datareader in /usr/local/lib/python3.7/dist-packages (0.9.0)\n",
            "Collecting pandas_datareader\n",
            "  Downloading pandas_datareader-0.10.0-py3-none-any.whl (109 kB)\n",
            "\u001b[?25l\r\u001b[K     |███                             | 10 kB 21.8 MB/s eta 0:00:01\r\u001b[K     |██████                          | 20 kB 27.6 MB/s eta 0:00:01\r\u001b[K     |█████████                       | 30 kB 30.2 MB/s eta 0:00:01\r\u001b[K     |████████████                    | 40 kB 31.3 MB/s eta 0:00:01\r\u001b[K     |███████████████                 | 51 kB 32.9 MB/s eta 0:00:01\r\u001b[K     |██████████████████              | 61 kB 34.2 MB/s eta 0:00:01\r\u001b[K     |█████████████████████           | 71 kB 28.2 MB/s eta 0:00:01\r\u001b[K     |████████████████████████        | 81 kB 28.0 MB/s eta 0:00:01\r\u001b[K     |███████████████████████████     | 92 kB 29.4 MB/s eta 0:00:01\r\u001b[K     |██████████████████████████████  | 102 kB 31.2 MB/s eta 0:00:01\r\u001b[K     |████████████████████████████████| 109 kB 31.2 MB/s \n",
            "\u001b[?25hRequirement already satisfied: lxml in /usr/local/lib/python3.7/dist-packages (from pandas_datareader) (4.2.6)\n",
            "Requirement already satisfied: pandas>=0.23 in /usr/local/lib/python3.7/dist-packages (from pandas_datareader) (1.1.5)\n",
            "Requirement already satisfied: requests>=2.19.0 in /usr/local/lib/python3.7/dist-packages (from pandas_datareader) (2.23.0)\n",
            "Requirement already satisfied: numpy>=1.15.4 in /usr/local/lib/python3.7/dist-packages (from pandas>=0.23->pandas_datareader) (1.19.5)\n",
            "Requirement already satisfied: python-dateutil>=2.7.3 in /usr/local/lib/python3.7/dist-packages (from pandas>=0.23->pandas_datareader) (2.8.2)\n",
            "Requirement already satisfied: pytz>=2017.2 in /usr/local/lib/python3.7/dist-packages (from pandas>=0.23->pandas_datareader) (2018.9)\n",
            "Requirement already satisfied: six>=1.5 in /usr/local/lib/python3.7/dist-packages (from python-dateutil>=2.7.3->pandas>=0.23->pandas_datareader) (1.15.0)\n",
            "Requirement already satisfied: chardet<4,>=3.0.2 in /usr/local/lib/python3.7/dist-packages (from requests>=2.19.0->pandas_datareader) (3.0.4)\n",
            "Requirement already satisfied: urllib3!=1.25.0,!=1.25.1,<1.26,>=1.21.1 in /usr/local/lib/python3.7/dist-packages (from requests>=2.19.0->pandas_datareader) (1.24.3)\n",
            "Requirement already satisfied: idna<3,>=2.5 in /usr/local/lib/python3.7/dist-packages (from requests>=2.19.0->pandas_datareader) (2.10)\n",
            "Requirement already satisfied: certifi>=2017.4.17 in /usr/local/lib/python3.7/dist-packages (from requests>=2.19.0->pandas_datareader) (2021.10.8)\n",
            "Installing collected packages: pandas-datareader\n",
            "  Attempting uninstall: pandas-datareader\n",
            "    Found existing installation: pandas-datareader 0.9.0\n",
            "    Uninstalling pandas-datareader-0.9.0:\n",
            "      Successfully uninstalled pandas-datareader-0.9.0\n",
            "Successfully installed pandas-datareader-0.10.0\n"
          ]
        }
      ],
      "source": [
        "#run only once :\n",
        "!pip install --upgrade pandas_datareader"
      ]
    },
    {
      "cell_type": "code",
      "execution_count": 53,
      "metadata": {
        "id": "ZBFMkuL1mprb"
      },
      "outputs": [],
      "source": [
        "#import the lib\n",
        "import math\n",
        "import pandas_datareader as web\n",
        "import numpy as np\n",
        "import pandas as pd\n",
        "from sklearn.preprocessing import MinMaxScaler\n",
        "from keras.models import Sequential\n",
        "from keras.layers import Dense, LSTM, Dropout\n",
        "import matplotlib.pyplot as plt\n",
        "plt.style.use('fivethirtyeight')"
      ]
    },
    {
      "cell_type": "code",
      "execution_count": 118,
      "metadata": {
        "colab": {
          "base_uri": "https://localhost:8080/",
          "height": 455
        },
        "id": "tyytovCMnoDG",
        "outputId": "d3b23a26-85aa-49d0-de6c-f4342a370037"
      },
      "outputs": [
        {
          "data": {
            "text/html": [
              "<div>\n",
              "<style scoped>\n",
              "    .dataframe tbody tr th:only-of-type {\n",
              "        vertical-align: middle;\n",
              "    }\n",
              "\n",
              "    .dataframe tbody tr th {\n",
              "        vertical-align: top;\n",
              "    }\n",
              "\n",
              "    .dataframe thead th {\n",
              "        text-align: right;\n",
              "    }\n",
              "</style>\n",
              "<table border=\"1\" class=\"dataframe\">\n",
              "  <thead>\n",
              "    <tr style=\"text-align: right;\">\n",
              "      <th></th>\n",
              "      <th>High</th>\n",
              "      <th>Low</th>\n",
              "      <th>Open</th>\n",
              "      <th>Close</th>\n",
              "      <th>Volume</th>\n",
              "      <th>Adj Close</th>\n",
              "    </tr>\n",
              "    <tr>\n",
              "      <th>Date</th>\n",
              "      <th></th>\n",
              "      <th></th>\n",
              "      <th></th>\n",
              "      <th></th>\n",
              "      <th></th>\n",
              "      <th></th>\n",
              "    </tr>\n",
              "  </thead>\n",
              "  <tbody>\n",
              "    <tr>\n",
              "      <th>2012-01-03</th>\n",
              "      <td>14.732143</td>\n",
              "      <td>14.607143</td>\n",
              "      <td>14.621429</td>\n",
              "      <td>14.686786</td>\n",
              "      <td>302220800.0</td>\n",
              "      <td>12.591939</td>\n",
              "    </tr>\n",
              "    <tr>\n",
              "      <th>2012-01-04</th>\n",
              "      <td>14.810000</td>\n",
              "      <td>14.617143</td>\n",
              "      <td>14.642857</td>\n",
              "      <td>14.765714</td>\n",
              "      <td>260022000.0</td>\n",
              "      <td>12.659606</td>\n",
              "    </tr>\n",
              "    <tr>\n",
              "      <th>2012-01-05</th>\n",
              "      <td>14.948214</td>\n",
              "      <td>14.738214</td>\n",
              "      <td>14.819643</td>\n",
              "      <td>14.929643</td>\n",
              "      <td>271269600.0</td>\n",
              "      <td>12.800156</td>\n",
              "    </tr>\n",
              "    <tr>\n",
              "      <th>2012-01-06</th>\n",
              "      <td>15.098214</td>\n",
              "      <td>14.972143</td>\n",
              "      <td>14.991786</td>\n",
              "      <td>15.085714</td>\n",
              "      <td>318292800.0</td>\n",
              "      <td>12.933969</td>\n",
              "    </tr>\n",
              "    <tr>\n",
              "      <th>2012-01-09</th>\n",
              "      <td>15.276786</td>\n",
              "      <td>15.048214</td>\n",
              "      <td>15.196429</td>\n",
              "      <td>15.061786</td>\n",
              "      <td>394024400.0</td>\n",
              "      <td>12.913451</td>\n",
              "    </tr>\n",
              "    <tr>\n",
              "      <th>...</th>\n",
              "      <td>...</td>\n",
              "      <td>...</td>\n",
              "      <td>...</td>\n",
              "      <td>...</td>\n",
              "      <td>...</td>\n",
              "      <td>...</td>\n",
              "    </tr>\n",
              "    <tr>\n",
              "      <th>2021-10-26</th>\n",
              "      <td>150.839996</td>\n",
              "      <td>149.009995</td>\n",
              "      <td>149.330002</td>\n",
              "      <td>149.320007</td>\n",
              "      <td>60893400.0</td>\n",
              "      <td>149.102402</td>\n",
              "    </tr>\n",
              "    <tr>\n",
              "      <th>2021-10-27</th>\n",
              "      <td>149.729996</td>\n",
              "      <td>148.490005</td>\n",
              "      <td>149.360001</td>\n",
              "      <td>148.850006</td>\n",
              "      <td>56094900.0</td>\n",
              "      <td>148.633087</td>\n",
              "    </tr>\n",
              "    <tr>\n",
              "      <th>2021-10-28</th>\n",
              "      <td>153.169998</td>\n",
              "      <td>149.720001</td>\n",
              "      <td>149.820007</td>\n",
              "      <td>152.570007</td>\n",
              "      <td>100077900.0</td>\n",
              "      <td>152.347656</td>\n",
              "    </tr>\n",
              "    <tr>\n",
              "      <th>2021-10-29</th>\n",
              "      <td>149.940002</td>\n",
              "      <td>146.410004</td>\n",
              "      <td>147.220001</td>\n",
              "      <td>149.800003</td>\n",
              "      <td>124850400.0</td>\n",
              "      <td>149.581696</td>\n",
              "    </tr>\n",
              "    <tr>\n",
              "      <th>2021-11-01</th>\n",
              "      <td>149.699997</td>\n",
              "      <td>147.800003</td>\n",
              "      <td>148.990005</td>\n",
              "      <td>148.960007</td>\n",
              "      <td>74588300.0</td>\n",
              "      <td>148.742920</td>\n",
              "    </tr>\n",
              "  </tbody>\n",
              "</table>\n",
              "<p>2475 rows × 6 columns</p>\n",
              "</div>"
            ],
            "text/plain": [
              "                  High         Low  ...       Volume   Adj Close\n",
              "Date                                ...                         \n",
              "2012-01-03   14.732143   14.607143  ...  302220800.0   12.591939\n",
              "2012-01-04   14.810000   14.617143  ...  260022000.0   12.659606\n",
              "2012-01-05   14.948214   14.738214  ...  271269600.0   12.800156\n",
              "2012-01-06   15.098214   14.972143  ...  318292800.0   12.933969\n",
              "2012-01-09   15.276786   15.048214  ...  394024400.0   12.913451\n",
              "...                ...         ...  ...          ...         ...\n",
              "2021-10-26  150.839996  149.009995  ...   60893400.0  149.102402\n",
              "2021-10-27  149.729996  148.490005  ...   56094900.0  148.633087\n",
              "2021-10-28  153.169998  149.720001  ...  100077900.0  152.347656\n",
              "2021-10-29  149.940002  146.410004  ...  124850400.0  149.581696\n",
              "2021-11-01  149.699997  147.800003  ...   74588300.0  148.742920\n",
              "\n",
              "[2475 rows x 6 columns]"
            ]
          },
          "execution_count": 118,
          "metadata": {},
          "output_type": "execute_result"
        }
      ],
      "source": [
        "#Get the stock quote\n",
        "df = web.DataReader('AAPL', data_source='yahoo', start='2012-01-01', end='2021-11-01')\n",
        "#Show the data\n",
        "df"
      ]
    },
    {
      "cell_type": "code",
      "execution_count": 119,
      "metadata": {
        "colab": {
          "base_uri": "https://localhost:8080/"
        },
        "id": "SuXIGxnKn9L0",
        "outputId": "2bfab104-2ecc-4e38-97d6-80ff0f8c1674"
      },
      "outputs": [
        {
          "data": {
            "text/plain": [
              "(2475, 6)"
            ]
          },
          "execution_count": 119,
          "metadata": {},
          "output_type": "execute_result"
        }
      ],
      "source": [
        "#Get the number of rows and columns in the data set\n",
        "df.shape"
      ]
    },
    {
      "cell_type": "code",
      "execution_count": 120,
      "metadata": {
        "colab": {
          "base_uri": "https://localhost:8080/",
          "height": 558
        },
        "id": "zN7U4m8joMh-",
        "outputId": "97c191ad-9289-4d6d-87d4-c86b7fffa640"
      },
      "outputs": [
        {
          "data": {
            "image/png": "[encoded data removed]",
            "text/plain": [
              "<Figure size 1152x576 with 1 Axes>"
            ]
          },
          "metadata": {},
          "output_type": "display_data"
        }
      ],
      "source": [
        "#Visualize the closing price\n",
        "plt.figure(figsize=(16, 8))\n",
        "plt.title(\"Closing price history\")\n",
        "plt.plot(df['Close'])\n",
        "plt.xlabel(\"Date\", fontsize=18)\n",
        "plt.ylabel(\"Close Price USD $\", fontsize = 18)\n",
        "plt.show()"
      ]
    },
    {
      "cell_type": "code",
      "execution_count": 121,
      "metadata": {
        "colab": {
          "base_uri": "https://localhost:8080/"
        },
        "id": "VGusDCYioiA2",
        "outputId": "9006b0f5-9617-4059-a947-93681d7e6644"
      },
      "outputs": [
        {
          "data": {
            "text/plain": [
              "1980"
            ]
          },
          "execution_count": 121,
          "metadata": {},
          "output_type": "execute_result"
        }
      ],
      "source": [
        "#Create a new df with only the close column\n",
        "data = df.filter(['Close'])\n",
        "#convert the dataframe to a numpy array\n",
        "dataset = data.values\n",
        "#get the number of rows to train the model on\n",
        "training_data_len = math.ceil(len(dataset) * .8)\n",
        "\n",
        "training_data_len"
      ]
    },
    {
      "cell_type": "code",
      "execution_count": 122,
      "metadata": {
        "colab": {
          "base_uri": "https://localhost:8080/"
        },
        "id": "RWex7-cwpZHb",
        "outputId": "f46872b4-09bc-498d-c964-40d05d687f9c"
      },
      "outputs": [
        {
          "data": {
            "text/plain": [
              "array([[0.00517915],\n",
              "       [0.00573209],\n",
              "       [0.00688052],\n",
              "       ...,\n",
              "       [0.97113687],\n",
              "       [0.95173127],\n",
              "       [0.94584657]])"
            ]
          },
          "execution_count": 122,
          "metadata": {},
          "output_type": "execute_result"
        }
      ],
      "source": [
        "#Scale the data -> almost super advantageous to apply preprocessing normalization before presenting it to a RNN\n",
        "scaler = MinMaxScaler(feature_range=(0,1))\n",
        "scaled_data = scaler.fit_transform(dataset)\n",
        "\n",
        "scaled_data"
      ]
    },
    {
      "cell_type": "code",
      "execution_count": 123,
      "metadata": {
        "colab": {
          "base_uri": "https://localhost:8080/"
        },
        "id": "DxUBDqtxp7ci",
        "outputId": "692d4f3c-8b8e-4b76-a102-4b1465dc5e44"
      },
      "outputs": [
        {
          "name": "stdout",
          "output_type": "stream",
          "text": [
            "[array([0.00517915, 0.00573209, 0.00688052, 0.0079739 , 0.00780626,\n",
            "       0.00818406, 0.00801143, 0.00772119, 0.00732587, 0.00854936,\n",
            "       0.00965275, 0.00931247, 0.00744847, 0.0092274 , 0.007476  ,\n",
            "       0.01404377, 0.01353586, 0.0141989 , 0.01563254, 0.01650074,\n",
            "       0.01642818, 0.01616047, 0.01730138, 0.01837474, 0.01959072,\n",
            "       0.0215548 , 0.02568061, 0.02574316, 0.02804001, 0.02975638,\n",
            "       0.02680652, 0.02794242, 0.02791991, 0.03110496, 0.03065209,\n",
            "       0.03149026, 0.03299647, 0.03383465, 0.03624909, 0.03800799,\n",
            "       0.0385159 , 0.03869355, 0.03568614, 0.03496055, 0.03506814,\n",
            "       0.03789542, 0.03869105, 0.04039993, 0.04442815, 0.04980247,\n",
            "       0.04879666, 0.04879916, 0.05268478, 0.05390076, 0.05303505,\n",
            "       0.05224443, 0.05142127, 0.05415595, 0.05603247, 0.0568181 ])]\n",
            "[0.05487653421186173]\n",
            "\n"
          ]
        }
      ],
      "source": [
        "#Create the training dataset\n",
        "#Create the scaled training dataset\n",
        "train_data = scaled_data[0:training_data_len, :]\n",
        "#Split the data into x_train and y_train -> x_train are the independant training variables, y_train are the dependant variables (target var)\n",
        "x_train = []\n",
        "y_train = []\n",
        "\n",
        "for i in range(60, len(train_data)):\n",
        "  x_train.append(train_data[i-60:i, 0])\n",
        "  y_train.append(train_data[i, 0])\n",
        "  if i<= 60:\n",
        "    print(x_train)\n",
        "    print(y_train)\n",
        "    print()\n",
        "    \n",
        "\n"
      ]
    },
    {
      "cell_type": "code",
      "execution_count": 124,
      "metadata": {
        "id": "TKp9arU4qzlJ"
      },
      "outputs": [],
      "source": [
        "#Convert the y_train and x_train to numpy arrays\n",
        "x_train = np.array(x_train)\n",
        "y_train = np.array(y_train)"
      ]
    },
    {
      "cell_type": "code",
      "execution_count": 125,
      "metadata": {
        "colab": {
          "base_uri": "https://localhost:8080/"
        },
        "id": "hJvN2YQbrYUi",
        "outputId": "2046ad31-7052-4415-cd54-e5101bdf3d31"
      },
      "outputs": [
        {
          "data": {
            "text/plain": [
              "(1920, 60, 1)"
            ]
          },
          "execution_count": 125,
          "metadata": {},
          "output_type": "execute_result"
        }
      ],
      "source": [
        "#Reshape the data -> in order to have an input (samples, timestamps, feature) for the LSTM model\n",
        "x_train = np.reshape(x_train, (x_train.shape[0], x_train.shape[1], 1))\n",
        "x_train.shape"
      ]
    },
    {
      "cell_type": "code",
      "execution_count": 126,
      "metadata": {
        "id": "folimeJvr62x"
      },
      "outputs": [],
      "source": [
        "#Build the LSTM model\n",
        "model = Sequential()\n",
        "model.add(LSTM(60, return_sequences=True, input_shape=(x_train.shape[1], 1)))\n",
        "model.add(Dropout(0.1))\n",
        "model.add(LSTM(60, return_sequences=False))\n",
        "model.add(Dropout(0.2))\n",
        "model.add(Dense(30))\n",
        "model.add(Dense(15))\n",
        "model.add(Dense(1))\n",
        "\n",
        "#tips to reduce overfitting -> optimizer = ranger, not ReLu activation but MISH, add fully connnected layers Dense"
      ]
    },
    {
      "cell_type": "code",
      "execution_count": 127,
      "metadata": {
        "id": "DQQHAxwQsdFA"
      },
      "outputs": [],
      "source": [
        "#Compile the model\n",
        "model.compile(optimizer='adam', loss='mean_squared_error')\n"
      ]
    },
    {
      "cell_type": "code",
      "execution_count": 135,
      "metadata": {
        "colab": {
          "base_uri": "https://localhost:8080/"
        },
        "id": "4L19a4E_syJC",
        "outputId": "c57c8261-a6c3-4959-c20f-609d71501379"
      },
      "outputs": [
        {
          "name": "stdout",
          "output_type": "stream",
          "text": [
            "1920/1920 [==============================] - 56s 29ms/step - loss: 2.6641e-04\n"
          ]
        }
      ],
      "source": [
        "model.fit(x_train, y_train, batch_size=1, epochs=1)\n",
        "model.save('LSTM_MODEL.h5')"
      ]
    },
    {
      "cell_type": "code",
      "execution_count": 136,
      "metadata": {
        "id": "JQUPjeMfs-Rq"
      },
      "outputs": [],
      "source": [
        "\n",
        "1#Create the testing dataset\n",
        "#Create a new array containing scaled values from index 1752 to 2265 \n",
        "test_data = scaled_data[training_data_len - 60 : , :]\n",
        "#Create the datasets x_test and y_test\n",
        "x_test = [] #values that we want our model to predict\n",
        "y_test = dataset[training_data_len:, :] # actual values not scaled\n",
        "\n",
        "for i in range(60, len(test_data)):\n",
        "  x_test.append(test_data[i-60:i, 0])\n",
        "  "
      ]
    },
    {
      "cell_type": "code",
      "execution_count": 137,
      "metadata": {
        "id": "K8F22n8DtxeQ"
      },
      "outputs": [],
      "source": [
        "#Convert the data into numpy array\n",
        "x_test = np.array(x_test)"
      ]
    },
    {
      "cell_type": "code",
      "execution_count": 138,
      "metadata": {
        "id": "nqviTs4quU9-"
      },
      "outputs": [],
      "source": [
        "#Reshape the data to have it 3 dimensionnal for the LSTM model\n",
        "x_test = np.reshape(x_test, (x_test.shape[0], x_test.shape[1], 1))"
      ]
    },
    {
      "cell_type": "code",
      "execution_count": 139,
      "metadata": {
        "id": "UFwEsWHOumfq"
      },
      "outputs": [],
      "source": [
        "#Get the model's predicted price values\n",
        "predictions = model.predict(x_test)\n",
        "predictions = scaler.inverse_transform(predictions) # -> unscaling the values to get the actual stock prices\n"
      ]
    },
    {
      "cell_type": "code",
      "execution_count": 140,
      "metadata": {
        "colab": {
          "base_uri": "https://localhost:8080/"
        },
        "id": "XiLrVG-jvDv9",
        "outputId": "5437e91d-5bd3-4d94-d0ef-17feb7af5f1d"
      },
      "outputs": [
        {
          "data": {
            "text/plain": [
              "3.6563427549419982"
            ]
          },
          "execution_count": 140,
          "metadata": {},
          "output_type": "execute_result"
        }
      ],
      "source": [
        "#Get the root mean squared error (RMSE) good measure of how good the model predicted the values\n",
        "# The lows values of RMSE shows that the model is well fit\n",
        "rmse = np.sqrt(np.mean(predictions - y_test)**2)\n",
        "rmse"
      ]
    },
    {
      "cell_type": "code",
      "execution_count": 141,
      "metadata": {
        "colab": {
          "base_uri": "https://localhost:8080/",
          "height": 669
        },
        "id": "di33fyEDvZcV",
        "outputId": "5386203e-d3c3-4e35-82bf-9c192221d443"
      },
      "outputs": [
        {
          "name": "stderr",
          "output_type": "stream",
          "text": [
            "/usr/local/lib/python3.7/dist-packages/ipykernel_launcher.py:7: SettingWithCopyWarning: \n",
            "A value is trying to be set on a copy of a slice from a DataFrame.\n",
            "Try using .loc[row_indexer,col_indexer] = value instead\n",
            "\n",
            "See the caveats in the documentation: https://pandas.pydata.org/pandas-docs/stable/user_guide/indexing.html#returning-a-view-versus-a-copy\n",
            "  import sys\n"
          ]
        },
        {
          "data": {
            "image/png": "[encoded data removed]",
            "text/plain": [
              "<Figure size 1152x576 with 1 Axes>"
            ]
          },
          "metadata": {},
          "output_type": "display_data"
        }
      ],
      "source": [
        "#That looks pretty fucking good man\n",
        "# The model matches almost perfectly the values, it might be naive but we'll see\n",
        "\n",
        "#Plot the data\n",
        "train = data[:training_data_len]\n",
        "valid = data[training_data_len:]\n",
        "valid['Predictions'] = predictions\n",
        "#Visualize the data\n",
        "plt.figure(figsize=(16, 8))\n",
        "plt.title('LSTM predictions')\n",
        "plt.xlabel('Date', fontsize=18)\n",
        "plt.ylabel('Close Price USD $', fontsize=18)\n",
        "plt.plot(train['Close'])\n",
        "plt.plot(valid[['Close', 'Predictions']])\n",
        "plt.legend(['Train', 'Validation', 'Predictions'], loc='lower right')\n",
        "plt.show()"
      ]
    },
    {
      "cell_type": "code",
      "execution_count": 142,
      "metadata": {
        "colab": {
          "base_uri": "https://localhost:8080/",
          "height": 455
        },
        "id": "jTVzDAa7wez3",
        "outputId": "65bcbac3-5ca4-4ad7-af74-7f4eabb7c37a"
      },
      "outputs": [
        {
          "data": {
            "text/html": [
              "<div>\n",
              "<style scoped>\n",
              "    .dataframe tbody tr th:only-of-type {\n",
              "        vertical-align: middle;\n",
              "    }\n",
              "\n",
              "    .dataframe tbody tr th {\n",
              "        vertical-align: top;\n",
              "    }\n",
              "\n",
              "    .dataframe thead th {\n",
              "        text-align: right;\n",
              "    }\n",
              "</style>\n",
              "<table border=\"1\" class=\"dataframe\">\n",
              "  <thead>\n",
              "    <tr style=\"text-align: right;\">\n",
              "      <th></th>\n",
              "      <th>Close</th>\n",
              "      <th>Predictions</th>\n",
              "    </tr>\n",
              "    <tr>\n",
              "      <th>Date</th>\n",
              "      <th></th>\n",
              "      <th></th>\n",
              "    </tr>\n",
              "  </thead>\n",
              "  <tbody>\n",
              "    <tr>\n",
              "      <th>2019-11-14</th>\n",
              "      <td>65.660004</td>\n",
              "      <td>64.747421</td>\n",
              "    </tr>\n",
              "    <tr>\n",
              "      <th>2019-11-15</th>\n",
              "      <td>66.440002</td>\n",
              "      <td>64.959419</td>\n",
              "    </tr>\n",
              "    <tr>\n",
              "      <th>2019-11-18</th>\n",
              "      <td>66.775002</td>\n",
              "      <td>65.194199</td>\n",
              "    </tr>\n",
              "    <tr>\n",
              "      <th>2019-11-19</th>\n",
              "      <td>66.572502</td>\n",
              "      <td>65.453514</td>\n",
              "    </tr>\n",
              "    <tr>\n",
              "      <th>2019-11-20</th>\n",
              "      <td>65.797501</td>\n",
              "      <td>65.662315</td>\n",
              "    </tr>\n",
              "    <tr>\n",
              "      <th>...</th>\n",
              "      <td>...</td>\n",
              "      <td>...</td>\n",
              "    </tr>\n",
              "    <tr>\n",
              "      <th>2021-10-26</th>\n",
              "      <td>149.320007</td>\n",
              "      <td>141.973251</td>\n",
              "    </tr>\n",
              "    <tr>\n",
              "      <th>2021-10-27</th>\n",
              "      <td>148.850006</td>\n",
              "      <td>142.341431</td>\n",
              "    </tr>\n",
              "    <tr>\n",
              "      <th>2021-10-28</th>\n",
              "      <td>152.570007</td>\n",
              "      <td>142.543442</td>\n",
              "    </tr>\n",
              "    <tr>\n",
              "      <th>2021-10-29</th>\n",
              "      <td>149.800003</td>\n",
              "      <td>143.084763</td>\n",
              "    </tr>\n",
              "    <tr>\n",
              "      <th>2021-11-01</th>\n",
              "      <td>148.960007</td>\n",
              "      <td>143.379318</td>\n",
              "    </tr>\n",
              "  </tbody>\n",
              "</table>\n",
              "<p>495 rows × 2 columns</p>\n",
              "</div>"
            ],
            "text/plain": [
              "                 Close  Predictions\n",
              "Date                               \n",
              "2019-11-14   65.660004    64.747421\n",
              "2019-11-15   66.440002    64.959419\n",
              "2019-11-18   66.775002    65.194199\n",
              "2019-11-19   66.572502    65.453514\n",
              "2019-11-20   65.797501    65.662315\n",
              "...                ...          ...\n",
              "2021-10-26  149.320007   141.973251\n",
              "2021-10-27  148.850006   142.341431\n",
              "2021-10-28  152.570007   142.543442\n",
              "2021-10-29  149.800003   143.084763\n",
              "2021-11-01  148.960007   143.379318\n",
              "\n",
              "[495 rows x 2 columns]"
            ]
          },
          "execution_count": 142,
          "metadata": {},
          "output_type": "execute_result"
        }
      ],
      "source": [
        "#Show the valid and predicted prices\n",
        "valid"
      ]
    },
    {
      "cell_type": "code",
      "execution_count": 143,
      "metadata": {
        "colab": {
          "base_uri": "https://localhost:8080/"
        },
        "id": "WgTqF4jTxHGH",
        "outputId": "eb80c505-8ef4-4f0e-e7c2-6bf8291c0b67"
      },
      "outputs": [
        {
          "name": "stdout",
          "output_type": "stream",
          "text": [
            "[[143.76955]]\n"
          ]
        }
      ],
      "source": [
        "#Get the quote\n",
        "apple_quote = web.DataReader('AAPL', data_source='yahoo', start='2012-01-01', end='2021-11-10')\n",
        "#Create a new dataframe\n",
        "new_df = apple_quote.filter(['Close'])\n",
        "#get the last 60 day closing price values and convert the df to an array\n",
        "last_60_days = new_df[-60:].values\n",
        "#Scale the data to be between 0 and 1\n",
        "last_60_days_scaled = scaler.transform(last_60_days)\n",
        "#Create an empty list\n",
        "X_test = []\n",
        "#Append the past 60 days to the X_test list\n",
        "X_test.append(last_60_days_scaled)\n",
        "#COnvert the X_test to a numpy array\n",
        "X_test = np.array(X_test)\n",
        "#Reshape the data to 3 dim -> for the LSTM model\n",
        "X_test = np.reshape(X_test, (X_test.shape[0], X_test.shape[1], 1))\n",
        "#Get the predicted scaled price\n",
        "pred_price = model.predict(X_test)\n",
        "#Undo the scaling\n",
        "pred_price = scaler.inverse_transform(pred_price)\n",
        "print(pred_price)"
      ]
    },
    {
      "cell_type": "code",
      "execution_count": 145,
      "metadata": {
        "colab": {
          "base_uri": "https://localhost:8080/"
        },
        "id": "SUbw68paw6pf",
        "outputId": "42182a50-5632-4e1d-ca33-a5dff2aec191"
      },
      "outputs": [
        {
          "name": "stdout",
          "output_type": "stream",
          "text": [
            "Date\n",
            "2021-11-10    147.919998\n",
            "Name: Close, dtype: float64\n"
          ]
        }
      ],
      "source": [
        "#Get the quote\n",
        "apple_quote2 = web.DataReader('AAPL', data_source='yahoo', start='2021-11-10', end='2021-11-10')\n",
        "print(apple_quote2['Close'])"
      ]
    },
    {
      "cell_type": "code",
      "execution_count": null,
      "metadata": {
        "id": "0JEygHOf3uFt"
      },
      "outputs": [],
      "source": [
        "#So we can see that the price differs of only around 3 USD $. Which is pretty fucking good"
      ]
    }
  ],
  "metadata": {
    "colab": {
      "collapsed_sections": [],
      "name": "LSTM_Stock_prediction_2.ipynb",
      "provenance": []
    },
    "kernelspec": {
      "display_name": "Python 3",
      "name": "python3"
    },
    "language_info": {
      "name": "python"
    }
  },
  "nbformat": 4,
  "nbformat_minor": 0
}
